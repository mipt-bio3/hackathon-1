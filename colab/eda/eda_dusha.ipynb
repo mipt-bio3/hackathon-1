{
  "cells": [
    {
      "cell_type": "markdown",
      "metadata": {
        "id": "PmGVCP6DH0BC"
      },
      "source": [
        "# Dusha dataset\n",
        "4+1 classes: Happiness (Positive), Sadness, Anger/Irritation, Neutral + [Other]\n",
        "\n",
        "https://github.com/salute-developers/golos/tree/master/dusha\n",
        "\n",
        "https://developers.sber.ru/portal/products/dusha\n",
        "\n",
        "https://arxiv.org/abs/2212.12266"
      ]
    },
    {
      "cell_type": "code",
      "source": [
        "!pip install wget"
      ],
      "metadata": {
        "colab": {
          "base_uri": "https://localhost:8080/"
        },
        "id": "JLnQvzn5pMxC",
        "outputId": "c7396e78-fc3d-4c06-a978-508a81decaee"
      },
      "execution_count": null,
      "outputs": [
        {
          "output_type": "stream",
          "name": "stdout",
          "text": [
            "Collecting wget\n",
            "  Downloading wget-3.2.zip (10 kB)\n",
            "  Preparing metadata (setup.py) ... \u001b[?25l\u001b[?25hdone\n",
            "Building wheels for collected packages: wget\n",
            "  Building wheel for wget (setup.py) ... \u001b[?25l\u001b[?25hdone\n",
            "  Created wheel for wget: filename=wget-3.2-py3-none-any.whl size=9656 sha256=5390f5f18306cac345cf5b5e8b4914258e0d5f92dec41e3b777534c8fe376fa9\n",
            "  Stored in directory: /root/.cache/pip/wheels/8b/f1/7f/5c94f0a7a505ca1c81cd1d9208ae2064675d97582078e6c769\n",
            "Successfully built wget\n",
            "Installing collected packages: wget\n",
            "Successfully installed wget-3.2\n"
          ]
        }
      ]
    },
    {
      "cell_type": "code",
      "execution_count": null,
      "metadata": {
        "id": "AX1izf0wIpGw"
      },
      "outputs": [],
      "source": [
        "import pandas as pd\n",
        "import matplotlib.pyplot as plt\n",
        "import seaborn as sns\n",
        "%matplotlib inline"
      ]
    },
    {
      "cell_type": "code",
      "execution_count": null,
      "metadata": {
        "id": "Fw8jYilLWXS4",
        "colab": {
          "base_uri": "https://localhost:8080/"
        },
        "outputId": "1f564e04-c7e6-46c3-fbba-31d9e7f8feca"
      },
      "outputs": [
        {
          "output_type": "stream",
          "name": "stdout",
          "text": [
            "--2024-12-15 10:07:36--  https://n-ws-q0bez.s3pd12.sbercloud.ru/b-ws-q0bez-jpv/dusha/paper_setups.tgz\n",
            "Resolving n-ws-q0bez.s3pd12.sbercloud.ru (n-ws-q0bez.s3pd12.sbercloud.ru)... 37.230.193.192\n",
            "Connecting to n-ws-q0bez.s3pd12.sbercloud.ru (n-ws-q0bez.s3pd12.sbercloud.ru)|37.230.193.192|:443... connected.\n",
            "HTTP request sent, awaiting response... 200 OK\n",
            "Length: 16578201 (16M) [application/x-tar]\n",
            "Saving to: ‘paper_setups.tgz’\n",
            "\n",
            "paper_setups.tgz    100%[===================>]  15.81M  5.87MB/s    in 2.7s    \n",
            "\n",
            "2024-12-15 10:07:40 (5.87 MB/s) - ‘paper_setups.tgz’ saved [16578201/16578201]\n",
            "\n"
          ]
        }
      ],
      "source": [
        "# download dataset files from github\n",
        "\n",
        "#URL_CROWD:        https://n-ws-q0bez.s3pd12.sbercloud.ru/b-ws-q0bez-jpv/dusha/crowd.tar         # 28 Gb (!)\n",
        "#URL_PODCAST:      https://n-ws-q0bez.s3pd12.sbercloud.ru/b-ws-q0bez-jpv/dusha/podcast.tar       # 360 Mb\n",
        "#URL_FEATURES:     https://n-ws-q0bez.s3pd12.sbercloud.ru/b-ws-q0bez-jpv/dusha/features.tar      # 30 Gb (!)\n",
        "#URL_PAPER_SETUPS: https://n-ws-q0bez.s3pd12.sbercloud.ru/b-ws-q0bez-jpv/dusha/paper_setups.tgz  # 16 Mb\n",
        "\n",
        "!wget https://n-ws-q0bez.s3pd12.sbercloud.ru/b-ws-q0bez-jpv/dusha/paper_setups.tgz\n",
        "\n",
        "import os\n",
        "import tarfile\n",
        "\n",
        "\n",
        "# extract\n",
        "if not os.path.exists('paper_setups'):\n",
        "  with tarfile.open('paper_setups.tgz', 'r:gz') as f:\n",
        "    f.extractall()"
      ]
    },
    {
      "cell_type": "code",
      "source": [
        "# load dataset metadata\n",
        "from io import StringIO\n",
        "\n",
        "\n",
        "data_path = 'paper_setups/dusha_large.jsonl'\n",
        "with open(data_path) as f: data = f.read()\n",
        "\n",
        "df = pd.read_json(StringIO(data), lines=True)\n",
        "df.head()"
      ],
      "metadata": {
        "colab": {
          "base_uri": "https://localhost:8080/",
          "height": 226
        },
        "id": "nePWNF9CmwWe",
        "outputId": "fce037d2-a480-4144-9537-42c3f27bb5b4"
      },
      "execution_count": null,
      "outputs": [
        {
          "output_type": "execute_result",
          "data": {
            "text/plain": [
              "                                 id  \\\n",
              "0  857b7099a4f5766105d166e2283066fa   \n",
              "1  2107b749055d85d7c09ac49fd30e3feb   \n",
              "2  700b3a5644a0824831848c346d11c7d6   \n",
              "3  e8c053899135f139e9527c1388790e36   \n",
              "4  7fe59996e0f93b8a63e28aacf480004b   \n",
              "\n",
              "                                             tensor  wav_length  label  \\\n",
              "0  ../features/857b7099a4f5766105d166e2283066fa.npy         4.4      2   \n",
              "1  ../features/2107b749055d85d7c09ac49fd30e3feb.npy         3.8      2   \n",
              "2  ../features/700b3a5644a0824831848c346d11c7d6.npy         2.5      2   \n",
              "3  ../features/e8c053899135f139e9527c1388790e36.npy         1.7      2   \n",
              "4  ../features/7fe59996e0f93b8a63e28aacf480004b.npy         1.9      2   \n",
              "\n",
              "   emotion  \n",
              "0  neutral  \n",
              "1  neutral  \n",
              "2  neutral  \n",
              "3  neutral  \n",
              "4  neutral  "
            ],
            "text/html": [
              "\n",
              "  <div id=\"df-cf438a1a-0efc-4bf2-aaa2-b7385cc952f8\" class=\"colab-df-container\">\n",
              "    <div>\n",
              "<style scoped>\n",
              "    .dataframe tbody tr th:only-of-type {\n",
              "        vertical-align: middle;\n",
              "    }\n",
              "\n",
              "    .dataframe tbody tr th {\n",
              "        vertical-align: top;\n",
              "    }\n",
              "\n",
              "    .dataframe thead th {\n",
              "        text-align: right;\n",
              "    }\n",
              "</style>\n",
              "<table border=\"1\" class=\"dataframe\">\n",
              "  <thead>\n",
              "    <tr style=\"text-align: right;\">\n",
              "      <th></th>\n",
              "      <th>id</th>\n",
              "      <th>tensor</th>\n",
              "      <th>wav_length</th>\n",
              "      <th>label</th>\n",
              "      <th>emotion</th>\n",
              "    </tr>\n",
              "  </thead>\n",
              "  <tbody>\n",
              "    <tr>\n",
              "      <th>0</th>\n",
              "      <td>857b7099a4f5766105d166e2283066fa</td>\n",
              "      <td>../features/857b7099a4f5766105d166e2283066fa.npy</td>\n",
              "      <td>4.4</td>\n",
              "      <td>2</td>\n",
              "      <td>neutral</td>\n",
              "    </tr>\n",
              "    <tr>\n",
              "      <th>1</th>\n",
              "      <td>2107b749055d85d7c09ac49fd30e3feb</td>\n",
              "      <td>../features/2107b749055d85d7c09ac49fd30e3feb.npy</td>\n",
              "      <td>3.8</td>\n",
              "      <td>2</td>\n",
              "      <td>neutral</td>\n",
              "    </tr>\n",
              "    <tr>\n",
              "      <th>2</th>\n",
              "      <td>700b3a5644a0824831848c346d11c7d6</td>\n",
              "      <td>../features/700b3a5644a0824831848c346d11c7d6.npy</td>\n",
              "      <td>2.5</td>\n",
              "      <td>2</td>\n",
              "      <td>neutral</td>\n",
              "    </tr>\n",
              "    <tr>\n",
              "      <th>3</th>\n",
              "      <td>e8c053899135f139e9527c1388790e36</td>\n",
              "      <td>../features/e8c053899135f139e9527c1388790e36.npy</td>\n",
              "      <td>1.7</td>\n",
              "      <td>2</td>\n",
              "      <td>neutral</td>\n",
              "    </tr>\n",
              "    <tr>\n",
              "      <th>4</th>\n",
              "      <td>7fe59996e0f93b8a63e28aacf480004b</td>\n",
              "      <td>../features/7fe59996e0f93b8a63e28aacf480004b.npy</td>\n",
              "      <td>1.9</td>\n",
              "      <td>2</td>\n",
              "      <td>neutral</td>\n",
              "    </tr>\n",
              "  </tbody>\n",
              "</table>\n",
              "</div>\n",
              "    <div class=\"colab-df-buttons\">\n",
              "\n",
              "  <div class=\"colab-df-container\">\n",
              "    <button class=\"colab-df-convert\" onclick=\"convertToInteractive('df-cf438a1a-0efc-4bf2-aaa2-b7385cc952f8')\"\n",
              "            title=\"Convert this dataframe to an interactive table.\"\n",
              "            style=\"display:none;\">\n",
              "\n",
              "  <svg xmlns=\"http://www.w3.org/2000/svg\" height=\"24px\" viewBox=\"0 -960 960 960\">\n",
              "    <path d=\"M120-120v-720h720v720H120Zm60-500h600v-160H180v160Zm220 220h160v-160H400v160Zm0 220h160v-160H400v160ZM180-400h160v-160H180v160Zm440 0h160v-160H620v160ZM180-180h160v-160H180v160Zm440 0h160v-160H620v160Z\"/>\n",
              "  </svg>\n",
              "    </button>\n",
              "\n",
              "  <style>\n",
              "    .colab-df-container {\n",
              "      display:flex;\n",
              "      gap: 12px;\n",
              "    }\n",
              "\n",
              "    .colab-df-convert {\n",
              "      background-color: #E8F0FE;\n",
              "      border: none;\n",
              "      border-radius: 50%;\n",
              "      cursor: pointer;\n",
              "      display: none;\n",
              "      fill: #1967D2;\n",
              "      height: 32px;\n",
              "      padding: 0 0 0 0;\n",
              "      width: 32px;\n",
              "    }\n",
              "\n",
              "    .colab-df-convert:hover {\n",
              "      background-color: #E2EBFA;\n",
              "      box-shadow: 0px 1px 2px rgba(60, 64, 67, 0.3), 0px 1px 3px 1px rgba(60, 64, 67, 0.15);\n",
              "      fill: #174EA6;\n",
              "    }\n",
              "\n",
              "    .colab-df-buttons div {\n",
              "      margin-bottom: 4px;\n",
              "    }\n",
              "\n",
              "    [theme=dark] .colab-df-convert {\n",
              "      background-color: #3B4455;\n",
              "      fill: #D2E3FC;\n",
              "    }\n",
              "\n",
              "    [theme=dark] .colab-df-convert:hover {\n",
              "      background-color: #434B5C;\n",
              "      box-shadow: 0px 1px 3px 1px rgba(0, 0, 0, 0.15);\n",
              "      filter: drop-shadow(0px 1px 2px rgba(0, 0, 0, 0.3));\n",
              "      fill: #FFFFFF;\n",
              "    }\n",
              "  </style>\n",
              "\n",
              "    <script>\n",
              "      const buttonEl =\n",
              "        document.querySelector('#df-cf438a1a-0efc-4bf2-aaa2-b7385cc952f8 button.colab-df-convert');\n",
              "      buttonEl.style.display =\n",
              "        google.colab.kernel.accessAllowed ? 'block' : 'none';\n",
              "\n",
              "      async function convertToInteractive(key) {\n",
              "        const element = document.querySelector('#df-cf438a1a-0efc-4bf2-aaa2-b7385cc952f8');\n",
              "        const dataTable =\n",
              "          await google.colab.kernel.invokeFunction('convertToInteractive',\n",
              "                                                    [key], {});\n",
              "        if (!dataTable) return;\n",
              "\n",
              "        const docLinkHtml = 'Like what you see? Visit the ' +\n",
              "          '<a target=\"_blank\" href=https://colab.research.google.com/notebooks/data_table.ipynb>data table notebook</a>'\n",
              "          + ' to learn more about interactive tables.';\n",
              "        element.innerHTML = '';\n",
              "        dataTable['output_type'] = 'display_data';\n",
              "        await google.colab.output.renderOutput(dataTable, element);\n",
              "        const docLink = document.createElement('div');\n",
              "        docLink.innerHTML = docLinkHtml;\n",
              "        element.appendChild(docLink);\n",
              "      }\n",
              "    </script>\n",
              "  </div>\n",
              "\n",
              "\n",
              "<div id=\"df-df76e20b-5173-4ae6-a79d-806426be1a86\">\n",
              "  <button class=\"colab-df-quickchart\" onclick=\"quickchart('df-df76e20b-5173-4ae6-a79d-806426be1a86')\"\n",
              "            title=\"Suggest charts\"\n",
              "            style=\"display:none;\">\n",
              "\n",
              "<svg xmlns=\"http://www.w3.org/2000/svg\" height=\"24px\"viewBox=\"0 0 24 24\"\n",
              "     width=\"24px\">\n",
              "    <g>\n",
              "        <path d=\"M19 3H5c-1.1 0-2 .9-2 2v14c0 1.1.9 2 2 2h14c1.1 0 2-.9 2-2V5c0-1.1-.9-2-2-2zM9 17H7v-7h2v7zm4 0h-2V7h2v10zm4 0h-2v-4h2v4z\"/>\n",
              "    </g>\n",
              "</svg>\n",
              "  </button>\n",
              "\n",
              "<style>\n",
              "  .colab-df-quickchart {\n",
              "      --bg-color: #E8F0FE;\n",
              "      --fill-color: #1967D2;\n",
              "      --hover-bg-color: #E2EBFA;\n",
              "      --hover-fill-color: #174EA6;\n",
              "      --disabled-fill-color: #AAA;\n",
              "      --disabled-bg-color: #DDD;\n",
              "  }\n",
              "\n",
              "  [theme=dark] .colab-df-quickchart {\n",
              "      --bg-color: #3B4455;\n",
              "      --fill-color: #D2E3FC;\n",
              "      --hover-bg-color: #434B5C;\n",
              "      --hover-fill-color: #FFFFFF;\n",
              "      --disabled-bg-color: #3B4455;\n",
              "      --disabled-fill-color: #666;\n",
              "  }\n",
              "\n",
              "  .colab-df-quickchart {\n",
              "    background-color: var(--bg-color);\n",
              "    border: none;\n",
              "    border-radius: 50%;\n",
              "    cursor: pointer;\n",
              "    display: none;\n",
              "    fill: var(--fill-color);\n",
              "    height: 32px;\n",
              "    padding: 0;\n",
              "    width: 32px;\n",
              "  }\n",
              "\n",
              "  .colab-df-quickchart:hover {\n",
              "    background-color: var(--hover-bg-color);\n",
              "    box-shadow: 0 1px 2px rgba(60, 64, 67, 0.3), 0 1px 3px 1px rgba(60, 64, 67, 0.15);\n",
              "    fill: var(--button-hover-fill-color);\n",
              "  }\n",
              "\n",
              "  .colab-df-quickchart-complete:disabled,\n",
              "  .colab-df-quickchart-complete:disabled:hover {\n",
              "    background-color: var(--disabled-bg-color);\n",
              "    fill: var(--disabled-fill-color);\n",
              "    box-shadow: none;\n",
              "  }\n",
              "\n",
              "  .colab-df-spinner {\n",
              "    border: 2px solid var(--fill-color);\n",
              "    border-color: transparent;\n",
              "    border-bottom-color: var(--fill-color);\n",
              "    animation:\n",
              "      spin 1s steps(1) infinite;\n",
              "  }\n",
              "\n",
              "  @keyframes spin {\n",
              "    0% {\n",
              "      border-color: transparent;\n",
              "      border-bottom-color: var(--fill-color);\n",
              "      border-left-color: var(--fill-color);\n",
              "    }\n",
              "    20% {\n",
              "      border-color: transparent;\n",
              "      border-left-color: var(--fill-color);\n",
              "      border-top-color: var(--fill-color);\n",
              "    }\n",
              "    30% {\n",
              "      border-color: transparent;\n",
              "      border-left-color: var(--fill-color);\n",
              "      border-top-color: var(--fill-color);\n",
              "      border-right-color: var(--fill-color);\n",
              "    }\n",
              "    40% {\n",
              "      border-color: transparent;\n",
              "      border-right-color: var(--fill-color);\n",
              "      border-top-color: var(--fill-color);\n",
              "    }\n",
              "    60% {\n",
              "      border-color: transparent;\n",
              "      border-right-color: var(--fill-color);\n",
              "    }\n",
              "    80% {\n",
              "      border-color: transparent;\n",
              "      border-right-color: var(--fill-color);\n",
              "      border-bottom-color: var(--fill-color);\n",
              "    }\n",
              "    90% {\n",
              "      border-color: transparent;\n",
              "      border-bottom-color: var(--fill-color);\n",
              "    }\n",
              "  }\n",
              "</style>\n",
              "\n",
              "  <script>\n",
              "    async function quickchart(key) {\n",
              "      const quickchartButtonEl =\n",
              "        document.querySelector('#' + key + ' button');\n",
              "      quickchartButtonEl.disabled = true;  // To prevent multiple clicks.\n",
              "      quickchartButtonEl.classList.add('colab-df-spinner');\n",
              "      try {\n",
              "        const charts = await google.colab.kernel.invokeFunction(\n",
              "            'suggestCharts', [key], {});\n",
              "      } catch (error) {\n",
              "        console.error('Error during call to suggestCharts:', error);\n",
              "      }\n",
              "      quickchartButtonEl.classList.remove('colab-df-spinner');\n",
              "      quickchartButtonEl.classList.add('colab-df-quickchart-complete');\n",
              "    }\n",
              "    (() => {\n",
              "      let quickchartButtonEl =\n",
              "        document.querySelector('#df-df76e20b-5173-4ae6-a79d-806426be1a86 button');\n",
              "      quickchartButtonEl.style.display =\n",
              "        google.colab.kernel.accessAllowed ? 'block' : 'none';\n",
              "    })();\n",
              "  </script>\n",
              "</div>\n",
              "    </div>\n",
              "  </div>\n"
            ],
            "application/vnd.google.colaboratory.intrinsic+json": {
              "type": "dataframe",
              "variable_name": "df"
            }
          },
          "metadata": {},
          "execution_count": 4
        }
      ]
    },
    {
      "cell_type": "code",
      "execution_count": null,
      "metadata": {
        "colab": {
          "base_uri": "https://localhost:8080/",
          "height": 144
        },
        "id": "bjS-Dx5lV9nG",
        "outputId": "1b5b372e-99e2-4b36-828c-011313963e05"
      },
      "outputs": [
        {
          "output_type": "stream",
          "name": "stderr",
          "text": [
            "Downloading...\n",
            "From (original): https://drive.google.com/uc?id=1OxIwOoJHXrn1c-NdJhVS-0OsyG1kMwFf\n",
            "From (redirected): https://drive.google.com/uc?id=1OxIwOoJHXrn1c-NdJhVS-0OsyG1kMwFf&confirm=t&uuid=53f89e88-89dd-4ecb-8477-c72c5d0af9d2\n",
            "To: /content/podcast_wavs.tar.gz\n",
            "100%|██████████| 8.63G/8.63G [01:55<00:00, 74.5MB/s]\n"
          ]
        },
        {
          "output_type": "execute_result",
          "data": {
            "text/plain": [
              "'podcast_wavs.tar.gz'"
            ],
            "application/vnd.google.colaboratory.intrinsic+json": {
              "type": "string"
            }
          },
          "metadata": {},
          "execution_count": 2
        }
      ],
      "source": [
        "# download podcast WAVs (~8 Gb) - see https://github.com/salute-developers/golos/issues/1\n",
        "\n",
        "DATA_FILE = 'podcast_wavs.tar.gz'\n",
        "URL = 'https://drive.google.com/uc?id=1OxIwOoJHXrn1c-NdJhVS-0OsyG1kMwFf'\n",
        "\n",
        "gdown.download(URL, DATA_FILE, quiet=False)"
      ]
    },
    {
      "cell_type": "code",
      "execution_count": null,
      "metadata": {
        "id": "V5pxRyajHupg"
      },
      "outputs": [],
      "source": [
        "# extract WAVs\n",
        "import os\n",
        "import tarfile\n",
        "import re\n",
        "\n",
        "\n",
        "if not os.path.exists('podcast_wavs'):\n",
        "  with tarfile.open(DATA_FILE, 'r:gz') as f:\n",
        "    f.extractall('podcast_wavs')"
      ]
    },
    {
      "cell_type": "markdown",
      "metadata": {
        "id": "QAO16QtzU93z"
      },
      "source": [
        "# Class balance"
      ]
    },
    {
      "cell_type": "code",
      "execution_count": null,
      "metadata": {
        "colab": {
          "base_uri": "https://localhost:8080/",
          "height": 487
        },
        "id": "rj0rcg6JVAlJ",
        "outputId": "da5d73db-3cbc-40ac-d521-0807b1ff53af"
      },
      "outputs": [
        {
          "output_type": "execute_result",
          "data": {
            "text/plain": [
              "<Axes: xlabel='Count', ylabel='emotion'>"
            ]
          },
          "metadata": {},
          "execution_count": 5
        },
        {
          "output_type": "display_data",
          "data": {
            "text/plain": [
              "<Figure size 640x480 with 1 Axes>"
            ],
            "image/png": "[encoded data removed]"
          },
          "metadata": {}
        }
      ],
      "source": [
        "sns.histplot(data=df, y='emotion')"
      ]
    },
    {
      "cell_type": "markdown",
      "metadata": {
        "id": "tf0kRr8xXf-V"
      },
      "source": [
        "# Word cloud"
      ]
    },
    {
      "cell_type": "code",
      "source": [
        "# \"We have transcriptions for the crowd part only for the time being...\" - see https://github.com/salute-developers/golos/issues/3\n",
        "\n",
        "#URL_CROWD:        https://n-ws-q0bez.s3pd12.sbercloud.ru/b-ws-q0bez-jpv/dusha/crowd.tar         # 28 Gb (!)\n",
        "\n",
        "!wget https://n-ws-q0bez.s3pd12.sbercloud.ru/b-ws-q0bez-jpv/dusha/crowd.tar\n",
        "\n",
        "import os\n",
        "import tarfile\n",
        "\n",
        "# extract\n",
        "if not os.path.exists('crowd'):\n",
        "  with tarfile.open('crowd.tar') as f:\n",
        "    f.extractall('crowd')"
      ],
      "metadata": {
        "colab": {
          "base_uri": "https://localhost:8080/"
        },
        "id": "QhSDJM7VwAda",
        "outputId": "014db6a3-80aa-430e-ac5d-3bdb1f037beb"
      },
      "execution_count": null,
      "outputs": [
        {
          "output_type": "stream",
          "name": "stdout",
          "text": [
            "--2024-12-15 10:03:27--  https://n-ws-q0bez.s3pd12.sbercloud.ru/b-ws-q0bez-jpv/dusha/podcast.tar\n",
            "Resolving n-ws-q0bez.s3pd12.sbercloud.ru (n-ws-q0bez.s3pd12.sbercloud.ru)... 37.230.193.192\n",
            "Connecting to n-ws-q0bez.s3pd12.sbercloud.ru (n-ws-q0bez.s3pd12.sbercloud.ru)|37.230.193.192|:443... connected.\n",
            "HTTP request sent, awaiting response... 200 OK\n",
            "Length: 399349760 (381M) [application/x-tar]\n",
            "Saving to: ‘podcast.tar.1’\n",
            "\n",
            "podcast.tar.1       100%[===================>] 380.85M  1.70MB/s    in 2m 18s  \n",
            "\n",
            "2024-12-15 10:05:46 (2.75 MB/s) - ‘podcast.tar.1’ saved [399349760/399349760]\n",
            "\n"
          ]
        }
      ]
    },
    {
      "cell_type": "code",
      "source": [
        "# TODO: load crowd dataset with speaker text\n"
      ],
      "metadata": {
        "id": "3k7i8vgHxPP8"
      },
      "execution_count": null,
      "outputs": []
    },
    {
      "cell_type": "code",
      "execution_count": null,
      "metadata": {
        "id": "JQOfCydDXoAO"
      },
      "outputs": [],
      "source": [
        "!pip install stop-words"
      ]
    },
    {
      "cell_type": "code",
      "execution_count": null,
      "metadata": {
        "id": "Is8d4ODdXiDd"
      },
      "outputs": [],
      "source": [
        "import re\n",
        "from wordcloud import WordCloud\n",
        "from stop_words import get_stop_words\n",
        "\n",
        "\n",
        "STOPWORDS_RU = get_stop_words('russian')\n",
        "\n",
        "# TODO: text is present only for 'crowd' part of the dataset (can be found in the crowd.zip)\n",
        "text = ''\n",
        "text = re.sub(r'==.*?==+', '', text)\n",
        "text = text.replace('\\n', ' ')\n",
        "\n",
        "wordcloud = WordCloud(width = 2000,\n",
        "                      height = 1500,\n",
        "                      random_state=42,\n",
        "                      background_color='black',\n",
        "                      margin=10,\n",
        "                      colormap='Pastel1',\n",
        "                      collocations=False,\n",
        "                      stopwords = STOPWORDS_RU).generate(text)\n",
        "\n",
        "plt.Figure(figsize=(100, 75))\n",
        "plt.imshow(wordcloud)\n",
        "plt.axis(\"off\")"
      ]
    }
  ],
  "metadata": {
    "colab": {
      "provenance": []
    },
    "kernelspec": {
      "display_name": "Python 3",
      "name": "python3"
    },
    "language_info": {
      "name": "python"
    }
  },
  "nbformat": 4,
  "nbformat_minor": 0
}